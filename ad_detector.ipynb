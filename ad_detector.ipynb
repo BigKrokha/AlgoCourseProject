{
 "cells": [
  {
   "cell_type": "code",
   "execution_count": 1,
   "metadata": {},
   "outputs": [],
   "source": [
    "import re\n",
    "import pandas as pd\n",
    "import numpy as np\n",
    "import time\n",
    "from collections import defaultdict"
   ]
  },
  {
   "cell_type": "code",
   "execution_count": 2,
   "metadata": {},
   "outputs": [],
   "source": [
    "df_ads = pd.read_csv(\"YandexAdsad.csv\", sep=';', usecols=[1], names=['text'])\n",
    "\n",
    "twits1 = pd.read_csv('ptwits.csv', sep=';', usecols=[3], names=['text'])\n",
    "twits2 = pd.read_csv('ntwits.csv', sep=';', usecols=[3], names=['text'])\n",
    "\n",
    "df_twits = pd.concat([twits1, twits2])"
   ]
  },
  {
   "cell_type": "code",
   "execution_count": 3,
   "metadata": {},
   "outputs": [
    {
     "data": {
      "text/html": [
       "<div>\n",
       "<style scoped>\n",
       "    .dataframe tbody tr th:only-of-type {\n",
       "        vertical-align: middle;\n",
       "    }\n",
       "\n",
       "    .dataframe tbody tr th {\n",
       "        vertical-align: top;\n",
       "    }\n",
       "\n",
       "    .dataframe thead th {\n",
       "        text-align: right;\n",
       "    }\n",
       "</style>\n",
       "<table border=\"1\" class=\"dataframe\">\n",
       "  <thead>\n",
       "    <tr style=\"text-align: right;\">\n",
       "      <th></th>\n",
       "      <th>text</th>\n",
       "    </tr>\n",
       "  </thead>\n",
       "  <tbody>\n",
       "    <tr>\n",
       "      <th>0</th>\n",
       "      <td>@first_timee хоть я и школота, но поверь, у на...</td>\n",
       "    </tr>\n",
       "    <tr>\n",
       "      <th>1</th>\n",
       "      <td>Да, все-таки он немного похож на него. Но мой ...</td>\n",
       "    </tr>\n",
       "    <tr>\n",
       "      <th>2</th>\n",
       "      <td>RT @KatiaCheh: Ну ты идиотка) я испугалась за ...</td>\n",
       "    </tr>\n",
       "    <tr>\n",
       "      <th>3</th>\n",
       "      <td>RT @digger2912: \"Кто то в углу сидит и погибае...</td>\n",
       "    </tr>\n",
       "    <tr>\n",
       "      <th>4</th>\n",
       "      <td>@irina_dyshkant Вот что значит страшилка :D\\nН...</td>\n",
       "    </tr>\n",
       "    <tr>\n",
       "      <th>...</th>\n",
       "      <td>...</td>\n",
       "    </tr>\n",
       "    <tr>\n",
       "      <th>111918</th>\n",
       "      <td>Но не каждый хочет что то исправлять:( http://...</td>\n",
       "    </tr>\n",
       "    <tr>\n",
       "      <th>111919</th>\n",
       "      <td>скучаю так :-( только @taaannyaaa вправляет мо...</td>\n",
       "    </tr>\n",
       "    <tr>\n",
       "      <th>111920</th>\n",
       "      <td>Вот и в школу, в говно это идти уже надо(</td>\n",
       "    </tr>\n",
       "    <tr>\n",
       "      <th>111921</th>\n",
       "      <td>RT @_Them__: @LisaBeroud Тауриэль, не грусти :...</td>\n",
       "    </tr>\n",
       "    <tr>\n",
       "      <th>111922</th>\n",
       "      <td>Такси везет меня на работу. Раздумываю приплат...</td>\n",
       "    </tr>\n",
       "  </tbody>\n",
       "</table>\n",
       "<p>226834 rows × 1 columns</p>\n",
       "</div>"
      ],
      "text/plain": [
       "                                                     text\n",
       "0       @first_timee хоть я и школота, но поверь, у на...\n",
       "1       Да, все-таки он немного похож на него. Но мой ...\n",
       "2       RT @KatiaCheh: Ну ты идиотка) я испугалась за ...\n",
       "3       RT @digger2912: \"Кто то в углу сидит и погибае...\n",
       "4       @irina_dyshkant Вот что значит страшилка :D\\nН...\n",
       "...                                                   ...\n",
       "111918  Но не каждый хочет что то исправлять:( http://...\n",
       "111919  скучаю так :-( только @taaannyaaa вправляет мо...\n",
       "111920          Вот и в школу, в говно это идти уже надо(\n",
       "111921  RT @_Them__: @LisaBeroud Тауриэль, не грусти :...\n",
       "111922  Такси везет меня на работу. Раздумываю приплат...\n",
       "\n",
       "[226834 rows x 1 columns]"
      ]
     },
     "execution_count": 3,
     "metadata": {},
     "output_type": "execute_result"
    }
   ],
   "source": [
    "df_twits"
   ]
  },
  {
   "cell_type": "code",
   "execution_count": 4,
   "metadata": {},
   "outputs": [
    {
     "data": {
      "text/html": [
       "<div>\n",
       "<style scoped>\n",
       "    .dataframe tbody tr th:only-of-type {\n",
       "        vertical-align: middle;\n",
       "    }\n",
       "\n",
       "    .dataframe tbody tr th {\n",
       "        vertical-align: top;\n",
       "    }\n",
       "\n",
       "    .dataframe thead th {\n",
       "        text-align: right;\n",
       "    }\n",
       "</style>\n",
       "<table border=\"1\" class=\"dataframe\">\n",
       "  <thead>\n",
       "    <tr style=\"text-align: right;\">\n",
       "      <th></th>\n",
       "      <th>text</th>\n",
       "    </tr>\n",
       "  </thead>\n",
       "  <tbody>\n",
       "    <tr>\n",
       "      <th>0</th>\n",
       "      <td>Доставка по РФ! Доставка транспортной компание...</td>\n",
       "    </tr>\n",
       "    <tr>\n",
       "      <th>1</th>\n",
       "      <td>Наличие на складе! Цены и качество от официаль...</td>\n",
       "    </tr>\n",
       "    <tr>\n",
       "      <th>2</th>\n",
       "      <td>Доставка по РФ. Оплата при получении! Наличие ...</td>\n",
       "    </tr>\n",
       "    <tr>\n",
       "      <th>3</th>\n",
       "      <td>Наличие на складе! Цены и качество от официаль...</td>\n",
       "    </tr>\n",
       "    <tr>\n",
       "      <th>4</th>\n",
       "      <td>Buderus! Цены от официального дилера. Гарантия...</td>\n",
       "    </tr>\n",
       "  </tbody>\n",
       "</table>\n",
       "</div>"
      ],
      "text/plain": [
       "                                                text\n",
       "0  Доставка по РФ! Доставка транспортной компание...\n",
       "1  Наличие на складе! Цены и качество от официаль...\n",
       "2  Доставка по РФ. Оплата при получении! Наличие ...\n",
       "3  Наличие на складе! Цены и качество от официаль...\n",
       "4  Buderus! Цены от официального дилера. Гарантия..."
      ]
     },
     "metadata": {},
     "output_type": "display_data"
    },
    {
     "data": {
      "text/html": [
       "<div>\n",
       "<style scoped>\n",
       "    .dataframe tbody tr th:only-of-type {\n",
       "        vertical-align: middle;\n",
       "    }\n",
       "\n",
       "    .dataframe tbody tr th {\n",
       "        vertical-align: top;\n",
       "    }\n",
       "\n",
       "    .dataframe thead th {\n",
       "        text-align: right;\n",
       "    }\n",
       "</style>\n",
       "<table border=\"1\" class=\"dataframe\">\n",
       "  <thead>\n",
       "    <tr style=\"text-align: right;\">\n",
       "      <th></th>\n",
       "      <th>text</th>\n",
       "    </tr>\n",
       "  </thead>\n",
       "  <tbody>\n",
       "    <tr>\n",
       "      <th>0</th>\n",
       "      <td>@first_timee хоть я и школота, но поверь, у на...</td>\n",
       "    </tr>\n",
       "    <tr>\n",
       "      <th>1</th>\n",
       "      <td>Да, все-таки он немного похож на него. Но мой ...</td>\n",
       "    </tr>\n",
       "    <tr>\n",
       "      <th>2</th>\n",
       "      <td>RT @KatiaCheh: Ну ты идиотка) я испугалась за ...</td>\n",
       "    </tr>\n",
       "    <tr>\n",
       "      <th>3</th>\n",
       "      <td>RT @digger2912: \"Кто то в углу сидит и погибае...</td>\n",
       "    </tr>\n",
       "    <tr>\n",
       "      <th>4</th>\n",
       "      <td>@irina_dyshkant Вот что значит страшилка :D\\nН...</td>\n",
       "    </tr>\n",
       "  </tbody>\n",
       "</table>\n",
       "</div>"
      ],
      "text/plain": [
       "                                                text\n",
       "0  @first_timee хоть я и школота, но поверь, у на...\n",
       "1  Да, все-таки он немного похож на него. Но мой ...\n",
       "2  RT @KatiaCheh: Ну ты идиотка) я испугалась за ...\n",
       "3  RT @digger2912: \"Кто то в углу сидит и погибае...\n",
       "4  @irina_dyshkant Вот что значит страшилка :D\\nН..."
      ]
     },
     "metadata": {},
     "output_type": "display_data"
    }
   ],
   "source": [
    "display(df_ads.head())\n",
    "display(df_twits.head())"
   ]
  },
  {
   "cell_type": "code",
   "execution_count": 5,
   "metadata": {},
   "outputs": [],
   "source": [
    "df_ads['target'] = 1\n",
    "df_twits['target'] = 0\n",
    "\n",
    "ads = df_ads[['text', 'target']]\n",
    "twits = df_twits[['text', 'target']]"
   ]
  },
  {
   "cell_type": "code",
   "execution_count": 6,
   "metadata": {},
   "outputs": [
    {
     "data": {
      "text/html": [
       "<div>\n",
       "<style scoped>\n",
       "    .dataframe tbody tr th:only-of-type {\n",
       "        vertical-align: middle;\n",
       "    }\n",
       "\n",
       "    .dataframe tbody tr th {\n",
       "        vertical-align: top;\n",
       "    }\n",
       "\n",
       "    .dataframe thead th {\n",
       "        text-align: right;\n",
       "    }\n",
       "</style>\n",
       "<table border=\"1\" class=\"dataframe\">\n",
       "  <thead>\n",
       "    <tr style=\"text-align: right;\">\n",
       "      <th></th>\n",
       "      <th>text</th>\n",
       "      <th>target</th>\n",
       "    </tr>\n",
       "  </thead>\n",
       "  <tbody>\n",
       "    <tr>\n",
       "      <th>0</th>\n",
       "      <td>Доставка по РФ! Доставка транспортной компание...</td>\n",
       "      <td>1</td>\n",
       "    </tr>\n",
       "    <tr>\n",
       "      <th>1</th>\n",
       "      <td>Наличие на складе! Цены и качество от официаль...</td>\n",
       "      <td>1</td>\n",
       "    </tr>\n",
       "    <tr>\n",
       "      <th>2</th>\n",
       "      <td>Доставка по РФ. Оплата при получении! Наличие ...</td>\n",
       "      <td>1</td>\n",
       "    </tr>\n",
       "    <tr>\n",
       "      <th>3</th>\n",
       "      <td>Наличие на складе! Цены и качество от официаль...</td>\n",
       "      <td>1</td>\n",
       "    </tr>\n",
       "    <tr>\n",
       "      <th>4</th>\n",
       "      <td>Buderus! Цены от официального дилера. Гарантия...</td>\n",
       "      <td>1</td>\n",
       "    </tr>\n",
       "    <tr>\n",
       "      <th>...</th>\n",
       "      <td>...</td>\n",
       "      <td>...</td>\n",
       "    </tr>\n",
       "    <tr>\n",
       "      <th>2084087</th>\n",
       "      <td>Для Вашего принтера! Картридж XEROX 108r00909 ...</td>\n",
       "      <td>1</td>\n",
       "    </tr>\n",
       "    <tr>\n",
       "      <th>2084088</th>\n",
       "      <td>Для Вашего принтера! Картридж XEROX 3100 MFP к...</td>\n",
       "      <td>1</td>\n",
       "    </tr>\n",
       "    <tr>\n",
       "      <th>2084089</th>\n",
       "      <td>Для Вашего принтера! Картридж XEROX 3100MFP Га...</td>\n",
       "      <td>1</td>\n",
       "    </tr>\n",
       "    <tr>\n",
       "      <th>2084090</th>\n",
       "      <td>Для Вашего принтера! Картридж XEROX 3117 купит...</td>\n",
       "      <td>1</td>\n",
       "    </tr>\n",
       "    <tr>\n",
       "      <th>2084091</th>\n",
       "      <td>Для Вашего принтера! Картридж XEROX 3117 цена ...</td>\n",
       "      <td>1</td>\n",
       "    </tr>\n",
       "  </tbody>\n",
       "</table>\n",
       "<p>2084092 rows × 2 columns</p>\n",
       "</div>"
      ],
      "text/plain": [
       "                                                      text  target\n",
       "0        Доставка по РФ! Доставка транспортной компание...       1\n",
       "1        Наличие на складе! Цены и качество от официаль...       1\n",
       "2        Доставка по РФ. Оплата при получении! Наличие ...       1\n",
       "3        Наличие на складе! Цены и качество от официаль...       1\n",
       "4        Buderus! Цены от официального дилера. Гарантия...       1\n",
       "...                                                    ...     ...\n",
       "2084087  Для Вашего принтера! Картридж XEROX 108r00909 ...       1\n",
       "2084088  Для Вашего принтера! Картридж XEROX 3100 MFP к...       1\n",
       "2084089  Для Вашего принтера! Картридж XEROX 3100MFP Га...       1\n",
       "2084090  Для Вашего принтера! Картридж XEROX 3117 купит...       1\n",
       "2084091  Для Вашего принтера! Картридж XEROX 3117 цена ...       1\n",
       "\n",
       "[2084092 rows x 2 columns]"
      ]
     },
     "execution_count": 6,
     "metadata": {},
     "output_type": "execute_result"
    }
   ],
   "source": [
    "ads"
   ]
  },
  {
   "cell_type": "code",
   "execution_count": 7,
   "metadata": {},
   "outputs": [],
   "source": [
    "def preproc(s: str):\n",
    "    def is_simple(word: str):\n",
    "        return all((char.isalpha() for char in word))\n",
    "    return ' '.join({word for word in s.lower().split() if len(word) > 3 and is_simple(word)})\n",
    "\n",
    "ads['clear'] = ads['text'].apply(preproc)\n",
    "twits['clear'] = twits['text'].apply(preproc)"
   ]
  },
  {
   "cell_type": "code",
   "execution_count": 8,
   "metadata": {},
   "outputs": [],
   "source": [
    "!notify-send hello"
   ]
  },
  {
   "cell_type": "code",
   "execution_count": 10,
   "metadata": {},
   "outputs": [],
   "source": [
    "df = pd.concat([ads, twits]).sample(frac=1).reset_index(drop=True)\n",
    "df = df[df['clear'] != '']"
   ]
  },
  {
   "cell_type": "code",
   "execution_count": 11,
   "metadata": {},
   "outputs": [
    {
     "data": {
      "text/plain": [
       "2291978"
      ]
     },
     "execution_count": 11,
     "metadata": {},
     "output_type": "execute_result"
    }
   ],
   "source": [
    "len(df)"
   ]
  },
  {
   "cell_type": "code",
   "execution_count": 12,
   "metadata": {},
   "outputs": [
    {
     "name": "stdout",
     "output_type": "stream",
     "text": [
      "TRAIN size: 2062780\n",
      "TEST size: 229198\n"
     ]
    }
   ],
   "source": [
    "from sklearn.model_selection import train_test_split\n",
    "\n",
    "df_train, df_test = train_test_split(df, test_size=0.1, random_state=42)\n",
    "print(\"TRAIN size:\", len(df_train))\n",
    "print(\"TEST size:\", len(df_test))"
   ]
  },
  {
   "cell_type": "code",
   "execution_count": 13,
   "metadata": {},
   "outputs": [],
   "source": [
    "import gensim\n",
    "import logging\n",
    "logging.basicConfig(format='%(asctime)s : %(levelname)s : %(message)s', level=logging.INFO)"
   ]
  },
  {
   "cell_type": "code",
   "execution_count": 14,
   "metadata": {},
   "outputs": [],
   "source": [
    "w2v_model = gensim.models.word2vec.Word2Vec(size=1000, \n",
    "                                            window=10, \n",
    "                                            min_count=10, \n",
    "                                            workers=4)"
   ]
  },
  {
   "cell_type": "code",
   "execution_count": 15,
   "metadata": {
    "collapsed": true,
    "jupyter": {
     "outputs_hidden": true
    }
   },
   "outputs": [
    {
     "name": "stderr",
     "output_type": "stream",
     "text": [
      "2021-01-14 02:38:07,046 : INFO : collecting all words and their counts\n",
      "2021-01-14 02:38:07,048 : INFO : PROGRESS: at sentence #0, processed 0 words, keeping 0 word types\n",
      "2021-01-14 02:38:07,075 : INFO : PROGRESS: at sentence #10000, processed 41428 words, keeping 10772 word types\n",
      "2021-01-14 02:38:07,100 : INFO : PROGRESS: at sentence #20000, processed 82750 words, keeping 16291 word types\n",
      "2021-01-14 02:38:07,132 : INFO : PROGRESS: at sentence #30000, processed 124056 words, keeping 20620 word types\n",
      "2021-01-14 02:38:07,161 : INFO : PROGRESS: at sentence #40000, processed 165347 words, keeping 24370 word types\n",
      "2021-01-14 02:38:07,183 : INFO : PROGRESS: at sentence #50000, processed 206456 words, keeping 27635 word types\n",
      "2021-01-14 02:38:07,209 : INFO : PROGRESS: at sentence #60000, processed 247664 words, keeping 30457 word types\n",
      "2021-01-14 02:38:07,235 : INFO : PROGRESS: at sentence #70000, processed 289074 words, keeping 33244 word types\n",
      "2021-01-14 02:38:07,259 : INFO : PROGRESS: at sentence #80000, processed 330378 words, keeping 35826 word types\n",
      "2021-01-14 02:38:07,279 : INFO : PROGRESS: at sentence #90000, processed 371584 words, keeping 38097 word types\n",
      "2021-01-14 02:38:07,299 : INFO : PROGRESS: at sentence #100000, processed 413011 words, keeping 40380 word types\n",
      "2021-01-14 02:38:07,330 : INFO : PROGRESS: at sentence #110000, processed 454245 words, keeping 42542 word types\n",
      "2021-01-14 02:38:07,362 : INFO : PROGRESS: at sentence #120000, processed 495573 words, keeping 44591 word types\n",
      "2021-01-14 02:38:07,383 : INFO : PROGRESS: at sentence #130000, processed 536847 words, keeping 46513 word types\n",
      "2021-01-14 02:38:07,413 : INFO : PROGRESS: at sentence #140000, processed 577950 words, keeping 48311 word types\n",
      "2021-01-14 02:38:07,439 : INFO : PROGRESS: at sentence #150000, processed 618811 words, keeping 49989 word types\n",
      "2021-01-14 02:38:07,467 : INFO : PROGRESS: at sentence #160000, processed 660139 words, keeping 51758 word types\n",
      "2021-01-14 02:38:07,496 : INFO : PROGRESS: at sentence #170000, processed 701558 words, keeping 53396 word types\n",
      "2021-01-14 02:38:07,520 : INFO : PROGRESS: at sentence #180000, processed 743142 words, keeping 55084 word types\n",
      "2021-01-14 02:38:07,547 : INFO : PROGRESS: at sentence #190000, processed 784597 words, keeping 56672 word types\n",
      "2021-01-14 02:38:07,570 : INFO : PROGRESS: at sentence #200000, processed 826060 words, keeping 58181 word types\n",
      "2021-01-14 02:38:07,592 : INFO : PROGRESS: at sentence #210000, processed 867329 words, keeping 59548 word types\n",
      "2021-01-14 02:38:07,615 : INFO : PROGRESS: at sentence #220000, processed 908740 words, keeping 60964 word types\n",
      "2021-01-14 02:38:07,641 : INFO : PROGRESS: at sentence #230000, processed 950184 words, keeping 62448 word types\n",
      "2021-01-14 02:38:07,665 : INFO : PROGRESS: at sentence #240000, processed 991304 words, keeping 63720 word types\n",
      "2021-01-14 02:38:07,691 : INFO : PROGRESS: at sentence #250000, processed 1032554 words, keeping 65092 word types\n",
      "2021-01-14 02:38:07,716 : INFO : PROGRESS: at sentence #260000, processed 1074305 words, keeping 66531 word types\n",
      "2021-01-14 02:38:07,754 : INFO : PROGRESS: at sentence #270000, processed 1115765 words, keeping 67824 word types\n",
      "2021-01-14 02:38:07,783 : INFO : PROGRESS: at sentence #280000, processed 1156751 words, keeping 69080 word types\n",
      "2021-01-14 02:38:07,812 : INFO : PROGRESS: at sentence #290000, processed 1198189 words, keeping 70334 word types\n",
      "2021-01-14 02:38:07,842 : INFO : PROGRESS: at sentence #300000, processed 1239538 words, keeping 71534 word types\n",
      "2021-01-14 02:38:07,864 : INFO : PROGRESS: at sentence #310000, processed 1280888 words, keeping 72788 word types\n",
      "2021-01-14 02:38:07,900 : INFO : PROGRESS: at sentence #320000, processed 1322238 words, keeping 73954 word types\n",
      "2021-01-14 02:38:07,923 : INFO : PROGRESS: at sentence #330000, processed 1363637 words, keeping 75094 word types\n",
      "2021-01-14 02:38:07,951 : INFO : PROGRESS: at sentence #340000, processed 1404888 words, keeping 76355 word types\n",
      "2021-01-14 02:38:07,985 : INFO : PROGRESS: at sentence #350000, processed 1446371 words, keeping 77510 word types\n",
      "2021-01-14 02:38:08,015 : INFO : PROGRESS: at sentence #360000, processed 1487438 words, keeping 78615 word types\n",
      "2021-01-14 02:38:08,043 : INFO : PROGRESS: at sentence #370000, processed 1528640 words, keeping 79675 word types\n",
      "2021-01-14 02:38:08,071 : INFO : PROGRESS: at sentence #380000, processed 1570057 words, keeping 80792 word types\n",
      "2021-01-14 02:38:08,097 : INFO : PROGRESS: at sentence #390000, processed 1611604 words, keeping 81811 word types\n",
      "2021-01-14 02:38:08,122 : INFO : PROGRESS: at sentence #400000, processed 1652721 words, keeping 82904 word types\n",
      "2021-01-14 02:38:08,156 : INFO : PROGRESS: at sentence #410000, processed 1693740 words, keeping 83937 word types\n",
      "2021-01-14 02:38:08,182 : INFO : PROGRESS: at sentence #420000, processed 1734980 words, keeping 85003 word types\n",
      "2021-01-14 02:38:08,206 : INFO : PROGRESS: at sentence #430000, processed 1776303 words, keeping 86022 word types\n",
      "2021-01-14 02:38:08,233 : INFO : PROGRESS: at sentence #440000, processed 1817542 words, keeping 87047 word types\n",
      "2021-01-14 02:38:08,263 : INFO : PROGRESS: at sentence #450000, processed 1858967 words, keeping 88023 word types\n",
      "2021-01-14 02:38:08,288 : INFO : PROGRESS: at sentence #460000, processed 1900283 words, keeping 88931 word types\n",
      "2021-01-14 02:38:08,313 : INFO : PROGRESS: at sentence #470000, processed 1941570 words, keeping 89875 word types\n",
      "2021-01-14 02:38:08,335 : INFO : PROGRESS: at sentence #480000, processed 1982770 words, keeping 90881 word types\n",
      "2021-01-14 02:38:08,361 : INFO : PROGRESS: at sentence #490000, processed 2023994 words, keeping 91854 word types\n",
      "2021-01-14 02:38:08,387 : INFO : PROGRESS: at sentence #500000, processed 2065386 words, keeping 92801 word types\n",
      "2021-01-14 02:38:08,410 : INFO : PROGRESS: at sentence #510000, processed 2107001 words, keeping 93762 word types\n",
      "2021-01-14 02:38:08,436 : INFO : PROGRESS: at sentence #520000, processed 2148449 words, keeping 94662 word types\n",
      "2021-01-14 02:38:08,456 : INFO : PROGRESS: at sentence #530000, processed 2189799 words, keeping 95529 word types\n",
      "2021-01-14 02:38:08,479 : INFO : PROGRESS: at sentence #540000, processed 2231137 words, keeping 96393 word types\n",
      "2021-01-14 02:38:08,499 : INFO : PROGRESS: at sentence #550000, processed 2272487 words, keeping 97291 word types\n",
      "2021-01-14 02:38:08,530 : INFO : PROGRESS: at sentence #560000, processed 2313936 words, keeping 98171 word types\n",
      "2021-01-14 02:38:08,555 : INFO : PROGRESS: at sentence #570000, processed 2355325 words, keeping 99085 word types\n",
      "2021-01-14 02:38:08,583 : INFO : PROGRESS: at sentence #580000, processed 2396692 words, keeping 99901 word types\n",
      "2021-01-14 02:38:08,612 : INFO : PROGRESS: at sentence #590000, processed 2437717 words, keeping 100727 word types\n",
      "2021-01-14 02:38:08,635 : INFO : PROGRESS: at sentence #600000, processed 2478911 words, keeping 101590 word types\n",
      "2021-01-14 02:38:08,663 : INFO : PROGRESS: at sentence #610000, processed 2520454 words, keeping 102502 word types\n",
      "2021-01-14 02:38:08,694 : INFO : PROGRESS: at sentence #620000, processed 2561740 words, keeping 103349 word types\n",
      "2021-01-14 02:38:08,719 : INFO : PROGRESS: at sentence #630000, processed 2603099 words, keeping 104188 word types\n",
      "2021-01-14 02:38:08,747 : INFO : PROGRESS: at sentence #640000, processed 2644702 words, keeping 105038 word types\n",
      "2021-01-14 02:38:08,780 : INFO : PROGRESS: at sentence #650000, processed 2685936 words, keeping 105815 word types\n",
      "2021-01-14 02:38:08,819 : INFO : PROGRESS: at sentence #660000, processed 2727082 words, keeping 106629 word types\n",
      "2021-01-14 02:38:08,848 : INFO : PROGRESS: at sentence #670000, processed 2768676 words, keeping 107454 word types\n",
      "2021-01-14 02:38:08,870 : INFO : PROGRESS: at sentence #680000, processed 2809904 words, keeping 108249 word types\n",
      "2021-01-14 02:38:08,900 : INFO : PROGRESS: at sentence #690000, processed 2851214 words, keeping 109023 word types\n",
      "2021-01-14 02:38:08,927 : INFO : PROGRESS: at sentence #700000, processed 2892323 words, keeping 109743 word types\n",
      "2021-01-14 02:38:08,950 : INFO : PROGRESS: at sentence #710000, processed 2933475 words, keeping 110486 word types\n",
      "2021-01-14 02:38:08,975 : INFO : PROGRESS: at sentence #720000, processed 2974892 words, keeping 111259 word types\n",
      "2021-01-14 02:38:09,003 : INFO : PROGRESS: at sentence #730000, processed 3016074 words, keeping 111959 word types\n",
      "2021-01-14 02:38:09,026 : INFO : PROGRESS: at sentence #740000, processed 3057207 words, keeping 112712 word types\n",
      "2021-01-14 02:38:09,053 : INFO : PROGRESS: at sentence #750000, processed 3098700 words, keeping 113407 word types\n",
      "2021-01-14 02:38:09,074 : INFO : PROGRESS: at sentence #760000, processed 3140042 words, keeping 114170 word types\n",
      "2021-01-14 02:38:09,098 : INFO : PROGRESS: at sentence #770000, processed 3181424 words, keeping 114892 word types\n",
      "2021-01-14 02:38:09,123 : INFO : PROGRESS: at sentence #780000, processed 3222633 words, keeping 115622 word types\n",
      "2021-01-14 02:38:09,147 : INFO : PROGRESS: at sentence #790000, processed 3264013 words, keeping 116394 word types\n",
      "2021-01-14 02:38:09,172 : INFO : PROGRESS: at sentence #800000, processed 3305215 words, keeping 117082 word types\n",
      "2021-01-14 02:38:09,206 : INFO : PROGRESS: at sentence #810000, processed 3346395 words, keeping 117777 word types\n",
      "2021-01-14 02:38:09,234 : INFO : PROGRESS: at sentence #820000, processed 3387767 words, keeping 118451 word types\n",
      "2021-01-14 02:38:09,265 : INFO : PROGRESS: at sentence #830000, processed 3429059 words, keeping 119181 word types\n",
      "2021-01-14 02:38:09,287 : INFO : PROGRESS: at sentence #840000, processed 3470229 words, keeping 119963 word types\n",
      "2021-01-14 02:38:09,321 : INFO : PROGRESS: at sentence #850000, processed 3511368 words, keeping 120621 word types\n",
      "2021-01-14 02:38:09,343 : INFO : PROGRESS: at sentence #860000, processed 3552851 words, keeping 121302 word types\n",
      "2021-01-14 02:38:09,367 : INFO : PROGRESS: at sentence #870000, processed 3593925 words, keeping 121982 word types\n",
      "2021-01-14 02:38:09,398 : INFO : PROGRESS: at sentence #880000, processed 3635272 words, keeping 122662 word types\n",
      "2021-01-14 02:38:09,426 : INFO : PROGRESS: at sentence #890000, processed 3676960 words, keeping 123378 word types\n",
      "2021-01-14 02:38:09,450 : INFO : PROGRESS: at sentence #900000, processed 3718355 words, keeping 124015 word types\n",
      "2021-01-14 02:38:09,473 : INFO : PROGRESS: at sentence #910000, processed 3759673 words, keeping 124653 word types\n",
      "2021-01-14 02:38:09,496 : INFO : PROGRESS: at sentence #920000, processed 3800669 words, keeping 125329 word types\n",
      "2021-01-14 02:38:09,524 : INFO : PROGRESS: at sentence #930000, processed 3842032 words, keeping 125990 word types\n",
      "2021-01-14 02:38:09,549 : INFO : PROGRESS: at sentence #940000, processed 3883118 words, keeping 126643 word types\n",
      "2021-01-14 02:38:09,572 : INFO : PROGRESS: at sentence #950000, processed 3924233 words, keeping 127251 word types\n",
      "2021-01-14 02:38:09,600 : INFO : PROGRESS: at sentence #960000, processed 3965677 words, keeping 127965 word types\n",
      "2021-01-14 02:38:09,622 : INFO : PROGRESS: at sentence #970000, processed 4006911 words, keeping 128565 word types\n",
      "2021-01-14 02:38:09,648 : INFO : PROGRESS: at sentence #980000, processed 4048240 words, keeping 129244 word types\n",
      "2021-01-14 02:38:09,673 : INFO : PROGRESS: at sentence #990000, processed 4089369 words, keeping 129892 word types\n",
      "2021-01-14 02:38:09,700 : INFO : PROGRESS: at sentence #1000000, processed 4130756 words, keeping 130488 word types\n",
      "2021-01-14 02:38:09,723 : INFO : PROGRESS: at sentence #1010000, processed 4172038 words, keeping 131100 word types\n",
      "2021-01-14 02:38:09,746 : INFO : PROGRESS: at sentence #1020000, processed 4213374 words, keeping 131742 word types\n",
      "2021-01-14 02:38:09,774 : INFO : PROGRESS: at sentence #1030000, processed 4254721 words, keeping 132333 word types\n",
      "2021-01-14 02:38:09,800 : INFO : PROGRESS: at sentence #1040000, processed 4296241 words, keeping 133015 word types\n",
      "2021-01-14 02:38:09,823 : INFO : PROGRESS: at sentence #1050000, processed 4337472 words, keeping 133604 word types\n",
      "2021-01-14 02:38:09,864 : INFO : PROGRESS: at sentence #1060000, processed 4378642 words, keeping 134265 word types\n",
      "2021-01-14 02:38:09,887 : INFO : PROGRESS: at sentence #1070000, processed 4419860 words, keeping 134857 word types\n",
      "2021-01-14 02:38:09,912 : INFO : PROGRESS: at sentence #1080000, processed 4461195 words, keeping 135543 word types\n",
      "2021-01-14 02:38:09,934 : INFO : PROGRESS: at sentence #1090000, processed 4502462 words, keeping 136155 word types\n",
      "2021-01-14 02:38:09,957 : INFO : PROGRESS: at sentence #1100000, processed 4543643 words, keeping 136698 word types\n",
      "2021-01-14 02:38:09,983 : INFO : PROGRESS: at sentence #1110000, processed 4584956 words, keeping 137273 word types\n",
      "2021-01-14 02:38:10,004 : INFO : PROGRESS: at sentence #1120000, processed 4626149 words, keeping 137875 word types\n",
      "2021-01-14 02:38:10,025 : INFO : PROGRESS: at sentence #1130000, processed 4667185 words, keeping 138438 word types\n",
      "2021-01-14 02:38:10,046 : INFO : PROGRESS: at sentence #1140000, processed 4708631 words, keeping 139015 word types\n",
      "2021-01-14 02:38:10,067 : INFO : PROGRESS: at sentence #1150000, processed 4750158 words, keeping 139604 word types\n",
      "2021-01-14 02:38:10,090 : INFO : PROGRESS: at sentence #1160000, processed 4791663 words, keeping 140186 word types\n",
      "2021-01-14 02:38:10,109 : INFO : PROGRESS: at sentence #1170000, processed 4832988 words, keeping 140756 word types\n",
      "2021-01-14 02:38:10,134 : INFO : PROGRESS: at sentence #1180000, processed 4874293 words, keeping 141324 word types\n",
      "2021-01-14 02:38:10,154 : INFO : PROGRESS: at sentence #1190000, processed 4915709 words, keeping 141909 word types\n",
      "2021-01-14 02:38:10,177 : INFO : PROGRESS: at sentence #1200000, processed 4956959 words, keeping 142499 word types\n",
      "2021-01-14 02:38:10,200 : INFO : PROGRESS: at sentence #1210000, processed 4998050 words, keeping 143076 word types\n",
      "2021-01-14 02:38:10,228 : INFO : PROGRESS: at sentence #1220000, processed 5039535 words, keeping 143685 word types\n",
      "2021-01-14 02:38:10,256 : INFO : PROGRESS: at sentence #1230000, processed 5080639 words, keeping 144263 word types\n",
      "2021-01-14 02:38:10,284 : INFO : PROGRESS: at sentence #1240000, processed 5121704 words, keeping 144835 word types\n",
      "2021-01-14 02:38:10,310 : INFO : PROGRESS: at sentence #1250000, processed 5163144 words, keeping 145420 word types\n",
      "2021-01-14 02:38:10,334 : INFO : PROGRESS: at sentence #1260000, processed 5204420 words, keeping 145987 word types\n",
      "2021-01-14 02:38:10,355 : INFO : PROGRESS: at sentence #1270000, processed 5245819 words, keeping 146520 word types\n",
      "2021-01-14 02:38:10,379 : INFO : PROGRESS: at sentence #1280000, processed 5287044 words, keeping 147111 word types\n",
      "2021-01-14 02:38:10,399 : INFO : PROGRESS: at sentence #1290000, processed 5328037 words, keeping 147667 word types\n",
      "2021-01-14 02:38:10,424 : INFO : PROGRESS: at sentence #1300000, processed 5369303 words, keeping 148243 word types\n",
      "2021-01-14 02:38:10,449 : INFO : PROGRESS: at sentence #1310000, processed 5410507 words, keeping 148766 word types\n",
      "2021-01-14 02:38:10,470 : INFO : PROGRESS: at sentence #1320000, processed 5451803 words, keeping 149274 word types\n",
      "2021-01-14 02:38:10,493 : INFO : PROGRESS: at sentence #1330000, processed 5493012 words, keeping 149847 word types\n",
      "2021-01-14 02:38:10,521 : INFO : PROGRESS: at sentence #1340000, processed 5534401 words, keeping 150374 word types\n",
      "2021-01-14 02:38:10,551 : INFO : PROGRESS: at sentence #1350000, processed 5575547 words, keeping 150879 word types\n",
      "2021-01-14 02:38:10,573 : INFO : PROGRESS: at sentence #1360000, processed 5616714 words, keeping 151418 word types\n",
      "2021-01-14 02:38:10,594 : INFO : PROGRESS: at sentence #1370000, processed 5657929 words, keeping 151971 word types\n",
      "2021-01-14 02:38:10,616 : INFO : PROGRESS: at sentence #1380000, processed 5699434 words, keeping 152539 word types\n",
      "2021-01-14 02:38:10,643 : INFO : PROGRESS: at sentence #1390000, processed 5740955 words, keeping 153118 word types\n",
      "2021-01-14 02:38:10,671 : INFO : PROGRESS: at sentence #1400000, processed 5782412 words, keeping 153697 word types\n",
      "2021-01-14 02:38:10,706 : INFO : PROGRESS: at sentence #1410000, processed 5823491 words, keeping 154237 word types\n",
      "2021-01-14 02:38:10,727 : INFO : PROGRESS: at sentence #1420000, processed 5864717 words, keeping 154685 word types\n",
      "2021-01-14 02:38:10,750 : INFO : PROGRESS: at sentence #1430000, processed 5906050 words, keeping 155199 word types\n",
      "2021-01-14 02:38:10,771 : INFO : PROGRESS: at sentence #1440000, processed 5947290 words, keeping 155730 word types\n",
      "2021-01-14 02:38:10,792 : INFO : PROGRESS: at sentence #1450000, processed 5988605 words, keeping 156288 word types\n",
      "2021-01-14 02:38:10,828 : INFO : PROGRESS: at sentence #1460000, processed 6029668 words, keeping 156794 word types\n",
      "2021-01-14 02:38:10,860 : INFO : PROGRESS: at sentence #1470000, processed 6071007 words, keeping 157323 word types\n",
      "2021-01-14 02:38:10,899 : INFO : PROGRESS: at sentence #1480000, processed 6112285 words, keeping 157777 word types\n",
      "2021-01-14 02:38:10,921 : INFO : PROGRESS: at sentence #1490000, processed 6153636 words, keeping 158313 word types\n",
      "2021-01-14 02:38:10,943 : INFO : PROGRESS: at sentence #1500000, processed 6195010 words, keeping 158826 word types\n",
      "2021-01-14 02:38:10,962 : INFO : PROGRESS: at sentence #1510000, processed 6236322 words, keeping 159341 word types\n",
      "2021-01-14 02:38:10,981 : INFO : PROGRESS: at sentence #1520000, processed 6277582 words, keeping 159804 word types\n",
      "2021-01-14 02:38:11,001 : INFO : PROGRESS: at sentence #1530000, processed 6318847 words, keeping 160327 word types\n",
      "2021-01-14 02:38:11,023 : INFO : PROGRESS: at sentence #1540000, processed 6360234 words, keeping 160840 word types\n",
      "2021-01-14 02:38:11,042 : INFO : PROGRESS: at sentence #1550000, processed 6401335 words, keeping 161287 word types\n",
      "2021-01-14 02:38:11,063 : INFO : PROGRESS: at sentence #1560000, processed 6442563 words, keeping 161789 word types\n",
      "2021-01-14 02:38:11,087 : INFO : PROGRESS: at sentence #1570000, processed 6484035 words, keeping 162306 word types\n",
      "2021-01-14 02:38:11,108 : INFO : PROGRESS: at sentence #1580000, processed 6524989 words, keeping 162801 word types\n",
      "2021-01-14 02:38:11,128 : INFO : PROGRESS: at sentence #1590000, processed 6566239 words, keeping 163289 word types\n",
      "2021-01-14 02:38:11,151 : INFO : PROGRESS: at sentence #1600000, processed 6607626 words, keeping 163751 word types\n",
      "2021-01-14 02:38:11,174 : INFO : PROGRESS: at sentence #1610000, processed 6648584 words, keeping 164261 word types\n",
      "2021-01-14 02:38:11,198 : INFO : PROGRESS: at sentence #1620000, processed 6689934 words, keeping 164767 word types\n",
      "2021-01-14 02:38:11,218 : INFO : PROGRESS: at sentence #1630000, processed 6731372 words, keeping 165236 word types\n",
      "2021-01-14 02:38:11,238 : INFO : PROGRESS: at sentence #1640000, processed 6772317 words, keeping 165705 word types\n",
      "2021-01-14 02:38:11,259 : INFO : PROGRESS: at sentence #1650000, processed 6813826 words, keeping 166177 word types\n",
      "2021-01-14 02:38:11,280 : INFO : PROGRESS: at sentence #1660000, processed 6855299 words, keeping 166682 word types\n",
      "2021-01-14 02:38:11,300 : INFO : PROGRESS: at sentence #1670000, processed 6896719 words, keeping 167172 word types\n",
      "2021-01-14 02:38:11,321 : INFO : PROGRESS: at sentence #1680000, processed 6938095 words, keeping 167651 word types\n",
      "2021-01-14 02:38:11,343 : INFO : PROGRESS: at sentence #1690000, processed 6979318 words, keeping 168162 word types\n",
      "2021-01-14 02:38:11,364 : INFO : PROGRESS: at sentence #1700000, processed 7020696 words, keeping 168638 word types\n",
      "2021-01-14 02:38:11,387 : INFO : PROGRESS: at sentence #1710000, processed 7061840 words, keeping 169122 word types\n",
      "2021-01-14 02:38:11,406 : INFO : PROGRESS: at sentence #1720000, processed 7103162 words, keeping 169592 word types\n",
      "2021-01-14 02:38:11,429 : INFO : PROGRESS: at sentence #1730000, processed 7144129 words, keeping 170096 word types\n",
      "2021-01-14 02:38:11,452 : INFO : PROGRESS: at sentence #1740000, processed 7185428 words, keeping 170595 word types\n",
      "2021-01-14 02:38:11,483 : INFO : PROGRESS: at sentence #1750000, processed 7226858 words, keeping 171092 word types\n",
      "2021-01-14 02:38:11,509 : INFO : PROGRESS: at sentence #1760000, processed 7268117 words, keeping 171528 word types\n",
      "2021-01-14 02:38:11,532 : INFO : PROGRESS: at sentence #1770000, processed 7309732 words, keeping 172021 word types\n",
      "2021-01-14 02:38:11,553 : INFO : PROGRESS: at sentence #1780000, processed 7351021 words, keeping 172470 word types\n",
      "2021-01-14 02:38:11,573 : INFO : PROGRESS: at sentence #1790000, processed 7392422 words, keeping 172972 word types\n",
      "2021-01-14 02:38:11,595 : INFO : PROGRESS: at sentence #1800000, processed 7433549 words, keeping 173442 word types\n",
      "2021-01-14 02:38:11,616 : INFO : PROGRESS: at sentence #1810000, processed 7474942 words, keeping 173860 word types\n",
      "2021-01-14 02:38:11,636 : INFO : PROGRESS: at sentence #1820000, processed 7516390 words, keeping 174340 word types\n",
      "2021-01-14 02:38:11,662 : INFO : PROGRESS: at sentence #1830000, processed 7557635 words, keeping 174810 word types\n",
      "2021-01-14 02:38:11,683 : INFO : PROGRESS: at sentence #1840000, processed 7599046 words, keeping 175242 word types\n",
      "2021-01-14 02:38:11,707 : INFO : PROGRESS: at sentence #1850000, processed 7640305 words, keeping 175698 word types\n",
      "2021-01-14 02:38:11,727 : INFO : PROGRESS: at sentence #1860000, processed 7681517 words, keeping 176189 word types\n",
      "2021-01-14 02:38:11,747 : INFO : PROGRESS: at sentence #1870000, processed 7722874 words, keeping 176673 word types\n",
      "2021-01-14 02:38:11,768 : INFO : PROGRESS: at sentence #1880000, processed 7764104 words, keeping 177140 word types\n",
      "2021-01-14 02:38:11,789 : INFO : PROGRESS: at sentence #1890000, processed 7805493 words, keeping 177605 word types\n",
      "2021-01-14 02:38:11,808 : INFO : PROGRESS: at sentence #1900000, processed 7846943 words, keeping 178049 word types\n",
      "2021-01-14 02:38:11,829 : INFO : PROGRESS: at sentence #1910000, processed 7888213 words, keeping 178486 word types\n",
      "2021-01-14 02:38:11,849 : INFO : PROGRESS: at sentence #1920000, processed 7929326 words, keeping 178958 word types\n",
      "2021-01-14 02:38:11,871 : INFO : PROGRESS: at sentence #1930000, processed 7970600 words, keeping 179419 word types\n",
      "2021-01-14 02:38:11,891 : INFO : PROGRESS: at sentence #1940000, processed 8012064 words, keeping 179847 word types\n",
      "2021-01-14 02:38:11,921 : INFO : PROGRESS: at sentence #1950000, processed 8053358 words, keeping 180304 word types\n",
      "2021-01-14 02:38:11,949 : INFO : PROGRESS: at sentence #1960000, processed 8094943 words, keeping 180799 word types\n",
      "2021-01-14 02:38:11,970 : INFO : PROGRESS: at sentence #1970000, processed 8136142 words, keeping 181201 word types\n",
      "2021-01-14 02:38:11,989 : INFO : PROGRESS: at sentence #1980000, processed 8177557 words, keeping 181634 word types\n",
      "2021-01-14 02:38:12,011 : INFO : PROGRESS: at sentence #1990000, processed 8218892 words, keeping 182037 word types\n",
      "2021-01-14 02:38:12,030 : INFO : PROGRESS: at sentence #2000000, processed 8260102 words, keeping 182424 word types\n",
      "2021-01-14 02:38:12,051 : INFO : PROGRESS: at sentence #2010000, processed 8301219 words, keeping 182846 word types\n",
      "2021-01-14 02:38:12,072 : INFO : PROGRESS: at sentence #2020000, processed 8342628 words, keeping 183267 word types\n",
      "2021-01-14 02:38:12,091 : INFO : PROGRESS: at sentence #2030000, processed 8383785 words, keeping 183678 word types\n",
      "2021-01-14 02:38:12,114 : INFO : PROGRESS: at sentence #2040000, processed 8425245 words, keeping 184108 word types\n",
      "2021-01-14 02:38:12,133 : INFO : PROGRESS: at sentence #2050000, processed 8466548 words, keeping 184579 word types\n",
      "2021-01-14 02:38:12,154 : INFO : PROGRESS: at sentence #2060000, processed 8507922 words, keeping 185020 word types\n",
      "2021-01-14 02:38:12,174 : INFO : PROGRESS: at sentence #2070000, processed 8549150 words, keeping 185417 word types\n",
      "2021-01-14 02:38:12,197 : INFO : PROGRESS: at sentence #2080000, processed 8590390 words, keeping 185815 word types\n",
      "2021-01-14 02:38:12,220 : INFO : PROGRESS: at sentence #2090000, processed 8631566 words, keeping 186215 word types\n",
      "2021-01-14 02:38:12,242 : INFO : PROGRESS: at sentence #2100000, processed 8673069 words, keeping 186629 word types\n",
      "2021-01-14 02:38:12,261 : INFO : PROGRESS: at sentence #2110000, processed 8714097 words, keeping 187066 word types\n",
      "2021-01-14 02:38:12,282 : INFO : PROGRESS: at sentence #2120000, processed 8755478 words, keeping 187471 word types\n",
      "2021-01-14 02:38:12,304 : INFO : PROGRESS: at sentence #2130000, processed 8797237 words, keeping 187892 word types\n",
      "2021-01-14 02:38:12,324 : INFO : PROGRESS: at sentence #2140000, processed 8838506 words, keeping 188315 word types\n",
      "2021-01-14 02:38:12,345 : INFO : PROGRESS: at sentence #2150000, processed 8879797 words, keeping 188716 word types\n",
      "2021-01-14 02:38:12,364 : INFO : PROGRESS: at sentence #2160000, processed 8921067 words, keeping 189168 word types\n",
      "2021-01-14 02:38:12,383 : INFO : PROGRESS: at sentence #2170000, processed 8962422 words, keeping 189586 word types\n",
      "2021-01-14 02:38:12,403 : INFO : PROGRESS: at sentence #2180000, processed 9003792 words, keeping 190038 word types\n",
      "2021-01-14 02:38:12,422 : INFO : PROGRESS: at sentence #2190000, processed 9045481 words, keeping 190496 word types\n",
      "2021-01-14 02:38:12,442 : INFO : PROGRESS: at sentence #2200000, processed 9086616 words, keeping 190871 word types\n",
      "2021-01-14 02:38:12,466 : INFO : PROGRESS: at sentence #2210000, processed 9127831 words, keeping 191277 word types\n",
      "2021-01-14 02:38:12,485 : INFO : PROGRESS: at sentence #2220000, processed 9169219 words, keeping 191677 word types\n",
      "2021-01-14 02:38:12,514 : INFO : PROGRESS: at sentence #2230000, processed 9210620 words, keeping 192111 word types\n",
      "2021-01-14 02:38:12,534 : INFO : PROGRESS: at sentence #2240000, processed 9251852 words, keeping 192479 word types\n",
      "2021-01-14 02:38:12,555 : INFO : PROGRESS: at sentence #2250000, processed 9293129 words, keeping 192891 word types\n",
      "2021-01-14 02:38:12,575 : INFO : PROGRESS: at sentence #2260000, processed 9334683 words, keeping 193291 word types\n",
      "2021-01-14 02:38:12,597 : INFO : PROGRESS: at sentence #2270000, processed 9375975 words, keeping 193650 word types\n",
      "2021-01-14 02:38:12,617 : INFO : PROGRESS: at sentence #2280000, processed 9417244 words, keeping 194066 word types\n",
      "2021-01-14 02:38:12,638 : INFO : PROGRESS: at sentence #2290000, processed 9458464 words, keeping 194450 word types\n",
      "2021-01-14 02:38:12,643 : INFO : collected 194518 word types from a corpus of 9466666 raw words and 2291978 sentences\n",
      "2021-01-14 02:38:12,646 : INFO : Loading a fresh vocabulary\n",
      "2021-01-14 02:38:12,813 : INFO : effective_min_count=10 retains 36100 unique words (18% of original 194518, drops 158418)\n",
      "2021-01-14 02:38:12,814 : INFO : effective_min_count=10 leaves 9124470 word corpus (96% of original 9466666, drops 342196)\n",
      "2021-01-14 02:38:12,950 : INFO : deleting the raw counts dictionary of 194518 items\n",
      "2021-01-14 02:38:12,957 : INFO : sample=0.001 downsamples 34 most-common words\n",
      "2021-01-14 02:38:12,958 : INFO : downsampling leaves estimated 8041659 word corpus (88.1% of prior 9124470)\n",
      "2021-01-14 02:38:13,084 : INFO : estimated required memory for 36100 words and 1000 dimensions: 306850000 bytes\n",
      "2021-01-14 02:38:13,085 : INFO : resetting layer weights\n"
     ]
    }
   ],
   "source": [
    "w2v_model.build_vocab(df['clear'].apply(str.split))"
   ]
  },
  {
   "cell_type": "code",
   "execution_count": 16,
   "metadata": {},
   "outputs": [
    {
     "name": "stdout",
     "output_type": "stream",
     "text": [
      "Vocab size 36100\n"
     ]
    }
   ],
   "source": [
    "words = w2v_model.wv.vocab.keys()\n",
    "vocab_size = len(words)\n",
    "print(\"Vocab size\", vocab_size)"
   ]
  },
  {
   "cell_type": "code",
   "execution_count": 17,
   "metadata": {
    "collapsed": true,
    "jupyter": {
     "outputs_hidden": true
    }
   },
   "outputs": [
    {
     "name": "stderr",
     "output_type": "stream",
     "text": [
      "2021-01-14 02:38:32,127 : INFO : training model with 4 workers on 36100 vocabulary and 1000 features, using sg=0 hs=0 sample=0.001 negative=5 window=10\n",
      "2021-01-14 02:38:33,138 : INFO : EPOCH 1 - PROGRESS: at 2.75% examples, 220325 words/s, in_qsize 7, out_qsize 0\n",
      "2021-01-14 02:38:34,147 : INFO : EPOCH 1 - PROGRESS: at 5.92% examples, 236489 words/s, in_qsize 6, out_qsize 1\n",
      "2021-01-14 02:38:35,167 : INFO : EPOCH 1 - PROGRESS: at 9.19% examples, 243880 words/s, in_qsize 7, out_qsize 0\n",
      "2021-01-14 02:38:36,184 : INFO : EPOCH 1 - PROGRESS: at 12.35% examples, 245575 words/s, in_qsize 7, out_qsize 0\n",
      "2021-01-14 02:38:37,225 : INFO : EPOCH 1 - PROGRESS: at 15.63% examples, 247086 words/s, in_qsize 6, out_qsize 1\n",
      "2021-01-14 02:38:38,249 : INFO : EPOCH 1 - PROGRESS: at 18.69% examples, 245950 words/s, in_qsize 7, out_qsize 0\n",
      "2021-01-14 02:38:39,250 : INFO : EPOCH 1 - PROGRESS: at 21.97% examples, 248413 words/s, in_qsize 7, out_qsize 0\n",
      "2021-01-14 02:38:40,250 : INFO : EPOCH 1 - PROGRESS: at 24.91% examples, 247103 words/s, in_qsize 7, out_qsize 0\n",
      "2021-01-14 02:38:41,272 : INFO : EPOCH 1 - PROGRESS: at 28.08% examples, 247388 words/s, in_qsize 7, out_qsize 0\n",
      "2021-01-14 02:38:42,273 : INFO : EPOCH 1 - PROGRESS: at 31.25% examples, 248086 words/s, in_qsize 7, out_qsize 0\n",
      "2021-01-14 02:38:43,307 : INFO : EPOCH 1 - PROGRESS: at 34.63% examples, 249518 words/s, in_qsize 7, out_qsize 0\n",
      "2021-01-14 02:38:44,347 : INFO : EPOCH 1 - PROGRESS: at 38.12% examples, 251182 words/s, in_qsize 8, out_qsize 0\n",
      "2021-01-14 02:38:45,348 : INFO : EPOCH 1 - PROGRESS: at 41.50% examples, 252743 words/s, in_qsize 7, out_qsize 0\n",
      "2021-01-14 02:38:46,424 : INFO : EPOCH 1 - PROGRESS: at 44.99% examples, 253296 words/s, in_qsize 6, out_qsize 1\n",
      "2021-01-14 02:38:47,443 : INFO : EPOCH 1 - PROGRESS: at 48.47% examples, 254766 words/s, in_qsize 7, out_qsize 0\n",
      "2021-01-14 02:38:48,457 : INFO : EPOCH 1 - PROGRESS: at 51.85% examples, 255603 words/s, in_qsize 6, out_qsize 1\n",
      "2021-01-14 02:38:49,460 : INFO : EPOCH 1 - PROGRESS: at 55.23% examples, 256475 words/s, in_qsize 7, out_qsize 0\n",
      "2021-01-14 02:38:50,473 : INFO : EPOCH 1 - PROGRESS: at 58.51% examples, 256676 words/s, in_qsize 7, out_qsize 0\n",
      "2021-01-14 02:38:51,479 : INFO : EPOCH 1 - PROGRESS: at 61.79% examples, 256914 words/s, in_qsize 7, out_qsize 0\n",
      "2021-01-14 02:38:52,490 : INFO : EPOCH 1 - PROGRESS: at 64.96% examples, 256671 words/s, in_qsize 7, out_qsize 0\n",
      "2021-01-14 02:38:53,495 : INFO : EPOCH 1 - PROGRESS: at 68.23% examples, 256911 words/s, in_qsize 7, out_qsize 0\n",
      "2021-01-14 02:38:54,541 : INFO : EPOCH 1 - PROGRESS: at 71.62% examples, 257050 words/s, in_qsize 8, out_qsize 0\n",
      "2021-01-14 02:38:55,643 : INFO : EPOCH 1 - PROGRESS: at 75.21% examples, 257276 words/s, in_qsize 7, out_qsize 0\n",
      "2021-01-14 02:38:56,669 : INFO : EPOCH 1 - PROGRESS: at 78.59% examples, 257591 words/s, in_qsize 8, out_qsize 1\n",
      "2021-01-14 02:38:57,670 : INFO : EPOCH 1 - PROGRESS: at 82.07% examples, 258465 words/s, in_qsize 7, out_qsize 0\n",
      "2021-01-14 02:38:58,690 : INFO : EPOCH 1 - PROGRESS: at 85.45% examples, 258773 words/s, in_qsize 8, out_qsize 1\n",
      "2021-01-14 02:38:59,703 : INFO : EPOCH 1 - PROGRESS: at 88.93% examples, 259444 words/s, in_qsize 7, out_qsize 0\n",
      "2021-01-14 02:39:00,732 : INFO : EPOCH 1 - PROGRESS: at 92.42% examples, 259903 words/s, in_qsize 6, out_qsize 1\n",
      "2021-01-14 02:39:01,778 : INFO : EPOCH 1 - PROGRESS: at 96.00% examples, 260465 words/s, in_qsize 6, out_qsize 1\n",
      "2021-01-14 02:39:02,780 : INFO : EPOCH 1 - PROGRESS: at 99.49% examples, 261103 words/s, in_qsize 5, out_qsize 0\n",
      "2021-01-14 02:39:02,842 : INFO : worker thread finished; awaiting finish of 3 more threads\n",
      "2021-01-14 02:39:02,880 : INFO : worker thread finished; awaiting finish of 2 more threads\n",
      "2021-01-14 02:39:02,889 : INFO : worker thread finished; awaiting finish of 1 more threads\n",
      "2021-01-14 02:39:02,892 : INFO : worker thread finished; awaiting finish of 0 more threads\n",
      "2021-01-14 02:39:02,893 : INFO : EPOCH - 1 : training on 9466666 raw words (8042182 effective words) took 30.8s, 261475 effective words/s\n",
      "2021-01-14 02:39:03,989 : INFO : EPOCH 2 - PROGRESS: at 3.17% examples, 237874 words/s, in_qsize 7, out_qsize 2\n",
      "2021-01-14 02:39:04,991 : INFO : EPOCH 2 - PROGRESS: at 6.77% examples, 262306 words/s, in_qsize 7, out_qsize 0\n",
      "2021-01-14 02:39:06,050 : INFO : EPOCH 2 - PROGRESS: at 10.24% examples, 263244 words/s, in_qsize 7, out_qsize 0\n",
      "2021-01-14 02:39:07,082 : INFO : EPOCH 2 - PROGRESS: at 13.72% examples, 265342 words/s, in_qsize 7, out_qsize 0\n",
      "2021-01-14 02:39:08,108 : INFO : EPOCH 2 - PROGRESS: at 17.21% examples, 266889 words/s, in_qsize 7, out_qsize 0\n",
      "2021-01-14 02:39:09,139 : INFO : EPOCH 2 - PROGRESS: at 20.59% examples, 266321 words/s, in_qsize 8, out_qsize 1\n",
      "2021-01-14 02:39:10,149 : INFO : EPOCH 2 - PROGRESS: at 23.76% examples, 264397 words/s, in_qsize 6, out_qsize 1\n",
      "2021-01-14 02:39:11,176 : INFO : EPOCH 2 - PROGRESS: at 27.34% examples, 266461 words/s, in_qsize 7, out_qsize 0\n",
      "2021-01-14 02:39:12,193 : INFO : EPOCH 2 - PROGRESS: at 30.83% examples, 267472 words/s, in_qsize 7, out_qsize 0\n",
      "2021-01-14 02:39:13,197 : INFO : EPOCH 2 - PROGRESS: at 34.21% examples, 267843 words/s, in_qsize 6, out_qsize 1\n",
      "2021-01-14 02:39:14,200 : INFO : EPOCH 2 - PROGRESS: at 37.59% examples, 268088 words/s, in_qsize 7, out_qsize 0\n",
      "2021-01-14 02:39:15,236 : INFO : EPOCH 2 - PROGRESS: at 41.08% examples, 268307 words/s, in_qsize 7, out_qsize 0\n",
      "2021-01-14 02:39:16,288 : INFO : EPOCH 2 - PROGRESS: at 44.78% examples, 269430 words/s, in_qsize 8, out_qsize 0\n",
      "2021-01-14 02:39:17,311 : INFO : EPOCH 2 - PROGRESS: at 48.37% examples, 270346 words/s, in_qsize 7, out_qsize 0\n",
      "2021-01-14 02:39:18,344 : INFO : EPOCH 2 - PROGRESS: at 51.85% examples, 270428 words/s, in_qsize 7, out_qsize 0\n",
      "2021-01-14 02:39:19,362 : INFO : EPOCH 2 - PROGRESS: at 55.44% examples, 271233 words/s, in_qsize 7, out_qsize 0\n",
      "2021-01-14 02:39:20,380 : INFO : EPOCH 2 - PROGRESS: at 58.94% examples, 271486 words/s, in_qsize 7, out_qsize 0\n",
      "2021-01-14 02:39:21,414 : INFO : EPOCH 2 - PROGRESS: at 62.42% examples, 271439 words/s, in_qsize 7, out_qsize 0\n",
      "2021-01-14 02:39:22,431 : INFO : EPOCH 2 - PROGRESS: at 66.12% examples, 272505 words/s, in_qsize 7, out_qsize 0\n",
      "2021-01-14 02:39:23,506 : INFO : EPOCH 2 - PROGRESS: at 69.71% examples, 272300 words/s, in_qsize 7, out_qsize 1\n",
      "2021-01-14 02:39:24,519 : INFO : EPOCH 2 - PROGRESS: at 73.31% examples, 272915 words/s, in_qsize 6, out_qsize 1\n",
      "2021-01-14 02:39:25,540 : INFO : EPOCH 2 - PROGRESS: at 76.69% examples, 272588 words/s, in_qsize 7, out_qsize 0\n",
      "2021-01-14 02:39:26,595 : INFO : EPOCH 2 - PROGRESS: at 80.17% examples, 272270 words/s, in_qsize 8, out_qsize 0\n",
      "2021-01-14 02:39:27,600 : INFO : EPOCH 2 - PROGRESS: at 83.23% examples, 271162 words/s, in_qsize 7, out_qsize 0\n",
      "2021-01-14 02:39:28,625 : INFO : EPOCH 2 - PROGRESS: at 86.82% examples, 271589 words/s, in_qsize 7, out_qsize 1\n",
      "2021-01-14 02:39:29,675 : INFO : EPOCH 2 - PROGRESS: at 90.52% examples, 272038 words/s, in_qsize 7, out_qsize 0\n",
      "2021-01-14 02:39:30,726 : INFO : EPOCH 2 - PROGRESS: at 94.21% examples, 272436 words/s, in_qsize 7, out_qsize 0\n",
      "2021-01-14 02:39:31,743 : INFO : EPOCH 2 - PROGRESS: at 97.80% examples, 272847 words/s, in_qsize 7, out_qsize 0\n",
      "2021-01-14 02:39:32,268 : INFO : worker thread finished; awaiting finish of 3 more threads\n",
      "2021-01-14 02:39:32,275 : INFO : worker thread finished; awaiting finish of 2 more threads\n",
      "2021-01-14 02:39:32,276 : INFO : worker thread finished; awaiting finish of 1 more threads\n",
      "2021-01-14 02:39:32,324 : INFO : worker thread finished; awaiting finish of 0 more threads\n",
      "2021-01-14 02:39:32,325 : INFO : EPOCH - 2 : training on 9466666 raw words (8041855 effective words) took 29.4s, 273464 effective words/s\n",
      "2021-01-14 02:39:33,352 : INFO : EPOCH 3 - PROGRESS: at 3.38% examples, 266677 words/s, in_qsize 7, out_qsize 0\n",
      "2021-01-14 02:39:34,399 : INFO : EPOCH 3 - PROGRESS: at 6.87% examples, 267259 words/s, in_qsize 7, out_qsize 0\n",
      "2021-01-14 02:39:35,495 : INFO : EPOCH 3 - PROGRESS: at 10.56% examples, 268745 words/s, in_qsize 6, out_qsize 1\n",
      "2021-01-14 02:39:36,533 : INFO : EPOCH 3 - PROGRESS: at 14.25% examples, 273186 words/s, in_qsize 7, out_qsize 0\n",
      "2021-01-14 02:39:37,544 : INFO : EPOCH 3 - PROGRESS: at 17.42% examples, 269050 words/s, in_qsize 7, out_qsize 0\n",
      "2021-01-14 02:39:38,549 : INFO : EPOCH 3 - PROGRESS: at 21.02% examples, 272009 words/s, in_qsize 7, out_qsize 0\n",
      "2021-01-14 02:39:39,599 : INFO : EPOCH 3 - PROGRESS: at 24.49% examples, 271305 words/s, in_qsize 8, out_qsize 1\n",
      "2021-01-14 02:39:40,610 : INFO : EPOCH 3 - PROGRESS: at 28.08% examples, 273095 words/s, in_qsize 7, out_qsize 0\n",
      "2021-01-14 02:39:41,610 : INFO : EPOCH 3 - PROGRESS: at 31.57% examples, 273873 words/s, in_qsize 6, out_qsize 1\n",
      "2021-01-14 02:39:42,658 : INFO : EPOCH 3 - PROGRESS: at 35.16% examples, 274068 words/s, in_qsize 7, out_qsize 2\n",
      "2021-01-14 02:39:43,686 : INFO : EPOCH 3 - PROGRESS: at 38.86% examples, 275440 words/s, in_qsize 8, out_qsize 0\n",
      "2021-01-14 02:39:44,747 : INFO : EPOCH 3 - PROGRESS: at 42.56% examples, 275860 words/s, in_qsize 7, out_qsize 1\n",
      "2021-01-14 02:39:45,759 : INFO : EPOCH 3 - PROGRESS: at 45.94% examples, 275287 words/s, in_qsize 6, out_qsize 1\n",
      "2021-01-14 02:39:46,767 : INFO : EPOCH 3 - PROGRESS: at 49.43% examples, 275472 words/s, in_qsize 7, out_qsize 0\n",
      "2021-01-14 02:39:47,803 : INFO : EPOCH 3 - PROGRESS: at 52.91% examples, 275142 words/s, in_qsize 8, out_qsize 0\n",
      "2021-01-14 02:39:48,827 : INFO : EPOCH 3 - PROGRESS: at 56.40% examples, 275033 words/s, in_qsize 7, out_qsize 0\n",
      "2021-01-14 02:39:49,833 : INFO : EPOCH 3 - PROGRESS: at 59.89% examples, 275241 words/s, in_qsize 6, out_qsize 1\n",
      "2021-01-14 02:39:50,883 : INFO : EPOCH 3 - PROGRESS: at 63.59% examples, 275664 words/s, in_qsize 7, out_qsize 0\n",
      "2021-01-14 02:39:51,904 : INFO : EPOCH 3 - PROGRESS: at 67.28% examples, 276460 words/s, in_qsize 7, out_qsize 0\n",
      "2021-01-14 02:39:52,939 : INFO : EPOCH 3 - PROGRESS: at 70.67% examples, 275788 words/s, in_qsize 7, out_qsize 0\n",
      "2021-01-14 02:39:53,976 : INFO : EPOCH 3 - PROGRESS: at 74.26% examples, 275910 words/s, in_qsize 7, out_qsize 0\n",
      "2021-01-14 02:39:55,007 : INFO : EPOCH 3 - PROGRESS: at 77.95% examples, 276481 words/s, in_qsize 7, out_qsize 0\n",
      "2021-01-14 02:39:56,042 : INFO : EPOCH 3 - PROGRESS: at 81.54% examples, 276578 words/s, in_qsize 8, out_qsize 0\n",
      "2021-01-14 02:39:57,064 : INFO : EPOCH 3 - PROGRESS: at 85.24% examples, 277168 words/s, in_qsize 7, out_qsize 0\n",
      "2021-01-14 02:39:58,074 : INFO : EPOCH 3 - PROGRESS: at 88.62% examples, 276866 words/s, in_qsize 7, out_qsize 0\n",
      "2021-01-14 02:39:59,148 : INFO : EPOCH 3 - PROGRESS: at 92.42% examples, 277171 words/s, in_qsize 8, out_qsize 0\n",
      "2021-01-14 02:40:00,164 : INFO : EPOCH 3 - PROGRESS: at 96.11% examples, 277720 words/s, in_qsize 7, out_qsize 0\n",
      "2021-01-14 02:40:01,126 : INFO : worker thread finished; awaiting finish of 3 more threads\n",
      "2021-01-14 02:40:01,143 : INFO : worker thread finished; awaiting finish of 2 more threads\n",
      "2021-01-14 02:40:01,180 : INFO : EPOCH 3 - PROGRESS: at 99.91% examples, 278550 words/s, in_qsize 1, out_qsize 1\n",
      "2021-01-14 02:40:01,182 : INFO : worker thread finished; awaiting finish of 1 more threads\n",
      "2021-01-14 02:40:01,195 : INFO : worker thread finished; awaiting finish of 0 more threads\n",
      "2021-01-14 02:40:01,201 : INFO : EPOCH - 3 : training on 9466666 raw words (8042681 effective words) took 28.9s, 278594 effective words/s\n",
      "2021-01-14 02:40:01,207 : INFO : training on a 28399998 raw words (24126718 effective words) took 89.1s, 270846 effective words/s\n"
     ]
    },
    {
     "data": {
      "text/plain": [
       "(24126718, 28399998)"
      ]
     },
     "execution_count": 17,
     "metadata": {},
     "output_type": "execute_result"
    }
   ],
   "source": [
    "docs = df['clear'].apply(str.split)\n",
    "w2v_model.train(docs, total_examples=len(docs), epochs=3)"
   ]
  },
  {
   "cell_type": "code",
   "execution_count": 19,
   "metadata": {},
   "outputs": [
    {
     "name": "stderr",
     "output_type": "stream",
     "text": [
      "<ipython-input-19-909e824b505e>:1: DeprecationWarning: Call to deprecated `most_similar` (Method will be removed in 4.0.0, use self.wv.most_similar() instead).\n",
      "  w2v_model.most_similar(positive=['хорошо'])\n",
      "2021-01-14 02:43:14,484 : INFO : precomputing L2-norms of word weight vectors\n"
     ]
    },
    {
     "data": {
      "text/plain": [
       "[('круто', 0.9079179763793945),\n",
       " ('видимо', 0.9067595601081848),\n",
       " ('пошли', 0.9044078588485718),\n",
       " ('немного', 0.9029951095581055),\n",
       " ('рада', 0.9016052484512329),\n",
       " ('обычно', 0.9011313915252686),\n",
       " ('думала', 0.9000774621963501),\n",
       " ('народ', 0.8977317810058594),\n",
       " ('ахаха', 0.8977190852165222),\n",
       " ('соскучилась', 0.8967077732086182)]"
      ]
     },
     "execution_count": 19,
     "metadata": {},
     "output_type": "execute_result"
    }
   ],
   "source": [
    "w2v_model.most_similar(positive=['хорошо'])"
   ]
  },
  {
   "cell_type": "code",
   "execution_count": 20,
   "metadata": {},
   "outputs": [
    {
     "name": "stderr",
     "output_type": "stream",
     "text": [
      "<ipython-input-20-ce7e928b58fa>:1: DeprecationWarning: Call to deprecated `__getitem__` (Method will be removed in 4.0.0, use self.wv.__getitem__() instead).\n",
      "  results = np.array([w2v_model[word] for word in preproc(test_text).split() if word in w2v_model.wv])\n"
     ]
    }
   ],
   "source": [
    "results = np.array([w2v_model[word] for word in preproc(test_text).split() if word in w2v_model.wv])"
   ]
  },
  {
   "cell_type": "code",
   "execution_count": 22,
   "metadata": {},
   "outputs": [
    {
     "name": "stdout",
     "output_type": "stream",
     "text": [
      "[0, 1, 2]\n",
      "[3, 4, 5]\n",
      "[6, 7, 8]\n",
      "[9, 10, 11]\n",
      "[12, 13, 14]\n",
      "[15, 16, 17]\n",
      "[18, 19]\n"
     ]
    }
   ],
   "source": [
    "def chuncks(gen, chunck_size=100):\n",
    "    iterator = iter(gen)\n",
    "    flag = True\n",
    "    while flag:\n",
    "        res = []\n",
    "        for _ in range(chunck_size):\n",
    "            try:\n",
    "                res.append(next(iterator)) \n",
    "            except StopIteration:\n",
    "                flag = False\n",
    "                break\n",
    "        yield res   \n",
    "\n",
    "\n",
    "for chunc in chuncks(range(20), 3):\n",
    "    print(chunc)"
   ]
  },
  {
   "cell_type": "code",
   "execution_count": 31,
   "metadata": {},
   "outputs": [
    {
     "name": "stdout",
     "output_type": "stream",
     "text": [
      "760/763 done...\r"
     ]
    }
   ],
   "source": [
    "from sklearn.neural_network import MLPClassifier\n",
    "\n",
    "mlp = MLPClassifier(alpha=1, max_iter=100)\n",
    "\n",
    "def get_text_vector(text: str):\n",
    "    return sum(np.array([w2v_model.wv[word] if (word in w2v_model.wv) else np.zeros(1000) for word in text.split() ]))\n",
    "\n",
    "def vectors_generator(texts):\n",
    "    for text in texts:\n",
    "        yield get_text_vector(text)\n",
    "\n",
    "j = 0\n",
    "for batch in chuncks(zip(vectors_generator(df['clear']), df['target']), 3000):\n",
    "#     print([(len(item), target) for item, target in batch])\n",
    "    mlp.partial_fit(*list(zip(*batch)), classes=[0,1])\n",
    "    j += 1\n",
    "    if j % 10 == 0: \n",
    "        print(f\"{j}/{len(df)//3000} done...\\r\", end='')\n",
    "    \n",
    "# mlp.partial_fit()\n",
    "# df_vec = pd.DataFrame(df[['clear', 'target']], columns=['clear', 'target', *list(w2v_model.wv.vocab.keys())])\n",
    "\n",
    "# df_vec.head()"
   ]
  },
  {
   "cell_type": "code",
   "execution_count": 18,
   "metadata": {},
   "outputs": [
    {
     "data": {
      "text/plain": [
       "'Магазин «Шар идеальная форма» предлагает одежду больших размеров дамам, имеющим завидные формы. «Шар идеальная форма» является уникальной торговой площадкой с широким ассортиментом от производителей из разных стран. В магазине собраны модели от известных дизайнеров Турции, России и Беларуси. Магазин «Шар идеальная форма я» позволяет любой моднице получить желаемый товар по доступным ценам. Спешите оформить заказ, и менеджеры мигом доставят его вам. Для постоянных клиентов действует система скидок.'"
      ]
     },
     "execution_count": 18,
     "metadata": {},
     "output_type": "execute_result"
    }
   ],
   "source": [
    "test_text = \"\"\"Магазин «Шар идеальная форма» предлагает одежду больших размеров дамам, имеющим завидные формы. «Шар идеальная форма» является уникальной торговой площадкой с широким ассортиментом от производителей из разных стран. В магазине собраны модели от известных дизайнеров Турции, России и Беларуси. Магазин «Шар идеальная форма я» позволяет любой моднице получить желаемый товар по доступным ценам. Спешите оформить заказ, и менеджеры мигом доставят его вам. Для постоянных клиентов действует система скидок.\"\"\"\n",
    "test_text"
   ]
  },
  {
   "cell_type": "code",
   "execution_count": 35,
   "metadata": {},
   "outputs": [
    {
     "data": {
      "text/plain": [
       "'Будущий богослов родился в небольшом городке Аудеватер в южной части Испанских Нидерландов. Получив начальное образование на родине, продолжил изучать богословие в университетах Марбурга, Лейдена, Женевы и Базеля. В Женеве преподавателем Арминия стал известный протестантский богослов Теодор Беза, сподвижник Жана Кальвина. Полученные рекомендации позволили Арминию получить должность пастора в Амстердаме в 1588 году'"
      ]
     },
     "execution_count": 35,
     "metadata": {},
     "output_type": "execute_result"
    }
   ],
   "source": [
    "test_non_ad = \"\"\"Будущий богослов родился в небольшом городке Аудеватер в южной части Испанских Нидерландов. Получив начальное образование на родине, продолжил изучать богословие в университетах Марбурга, Лейдена, Женевы и Базеля. В Женеве преподавателем Арминия стал известный протестантский богослов Теодор Беза, сподвижник Жана Кальвина. Полученные рекомендации позволили Арминию получить должность пастора в Амстердаме в 1588 году\"\"\"\n",
    "test_non_ad"
   ]
  },
  {
   "cell_type": "code",
   "execution_count": 38,
   "metadata": {},
   "outputs": [
    {
     "data": {
      "text/plain": [
       "'Полагая, что Арминий является сторонником доктрины о свободе воли и деятельном участии человека в деле своего спасения, Гомарус обвинял его в ереси пелагианства и полупелагианства. Их конфликт неоднократно становился предметом разбирательства гражданских властей республики, и своё самое известное произведение, «Объявление мнения», Арминий представил 20 октября 1608 года в своей речи перед Генеральными штатами. Богослов скончался в разгар споров относительно своего учения, и его последователи, получившие название ремонстрантов, организационно оформились после его смерти. '"
      ]
     },
     "execution_count": 38,
     "metadata": {},
     "output_type": "execute_result"
    }
   ],
   "source": [
    "test_non_ad2 = \"\"\"Полагая, что Арминий является сторонником доктрины о свободе воли и деятельном участии человека в деле своего спасения, Гомарус обвинял его в ереси пелагианства и полупелагианства. Их конфликт неоднократно становился предметом разбирательства гражданских властей республики, и своё самое известное произведение, «Объявление мнения», Арминий представил 20 октября 1608 года в своей речи перед Генеральными штатами. Богослов скончался в разгар споров относительно своего учения, и его последователи, получившие название ремонстрантов, организационно оформились после его смерти. \"\"\"\n",
    "test_non_ad2"
   ]
  },
  {
   "cell_type": "code",
   "execution_count": 39,
   "metadata": {},
   "outputs": [
    {
     "data": {
      "text/plain": [
       "array([1, 1, 0])"
      ]
     },
     "execution_count": 39,
     "metadata": {},
     "output_type": "execute_result"
    }
   ],
   "source": [
    "mlp.predict([get_text_vector(text) for text in (test_text, test_non_ad, test_non_ad2)])"
   ]
  },
  {
   "cell_type": "code",
   "execution_count": 40,
   "metadata": {},
   "outputs": [
    {
     "data": {
      "text/plain": [
       "['model.joblib']"
      ]
     },
     "execution_count": 40,
     "metadata": {},
     "output_type": "execute_result"
    }
   ],
   "source": [
    "from joblib import dump, load\n",
    "dump(mlp, \"model.joblib\")"
   ]
  },
  {
   "cell_type": "code",
   "execution_count": 41,
   "metadata": {},
   "outputs": [
    {
     "ename": "FileNotFoundError",
     "evalue": "[Errno 2] No such file or directory: 'model.joblib'",
     "output_type": "error",
     "traceback": [
      "\u001b[0;31m---------------------------------------------------------------------------\u001b[0m",
      "\u001b[0;31mFileNotFoundError\u001b[0m                         Traceback (most recent call last)",
      "\u001b[0;32m<ipython-input-41-56d59e6d07c0>\u001b[0m in \u001b[0;36m<module>\u001b[0;34m\u001b[0m\n\u001b[0;32m----> 1\u001b[0;31m \u001b[0mmlp\u001b[0m \u001b[0;34m=\u001b[0m \u001b[0mload\u001b[0m\u001b[0;34m(\u001b[0m\u001b[0;34m\"model.joblib\"\u001b[0m\u001b[0;34m)\u001b[0m\u001b[0;34m\u001b[0m\u001b[0;34m\u001b[0m\u001b[0m\n\u001b[0m",
      "\u001b[0;32m~/Magistr/Algos/venv38/lib/python3.8/site-packages/joblib/numpy_pickle.py\u001b[0m in \u001b[0;36mload\u001b[0;34m(filename, mmap_mode)\u001b[0m\n\u001b[1;32m    575\u001b[0m             \u001b[0mobj\u001b[0m \u001b[0;34m=\u001b[0m \u001b[0m_unpickle\u001b[0m\u001b[0;34m(\u001b[0m\u001b[0mfobj\u001b[0m\u001b[0;34m)\u001b[0m\u001b[0;34m\u001b[0m\u001b[0;34m\u001b[0m\u001b[0m\n\u001b[1;32m    576\u001b[0m     \u001b[0;32melse\u001b[0m\u001b[0;34m:\u001b[0m\u001b[0;34m\u001b[0m\u001b[0;34m\u001b[0m\u001b[0m\n\u001b[0;32m--> 577\u001b[0;31m         \u001b[0;32mwith\u001b[0m \u001b[0mopen\u001b[0m\u001b[0;34m(\u001b[0m\u001b[0mfilename\u001b[0m\u001b[0;34m,\u001b[0m \u001b[0;34m'rb'\u001b[0m\u001b[0;34m)\u001b[0m \u001b[0;32mas\u001b[0m \u001b[0mf\u001b[0m\u001b[0;34m:\u001b[0m\u001b[0;34m\u001b[0m\u001b[0;34m\u001b[0m\u001b[0m\n\u001b[0m\u001b[1;32m    578\u001b[0m             \u001b[0;32mwith\u001b[0m \u001b[0m_read_fileobject\u001b[0m\u001b[0;34m(\u001b[0m\u001b[0mf\u001b[0m\u001b[0;34m,\u001b[0m \u001b[0mfilename\u001b[0m\u001b[0;34m,\u001b[0m \u001b[0mmmap_mode\u001b[0m\u001b[0;34m)\u001b[0m \u001b[0;32mas\u001b[0m \u001b[0mfobj\u001b[0m\u001b[0;34m:\u001b[0m\u001b[0;34m\u001b[0m\u001b[0;34m\u001b[0m\u001b[0m\n\u001b[1;32m    579\u001b[0m                 \u001b[0;32mif\u001b[0m \u001b[0misinstance\u001b[0m\u001b[0;34m(\u001b[0m\u001b[0mfobj\u001b[0m\u001b[0;34m,\u001b[0m \u001b[0mstr\u001b[0m\u001b[0;34m)\u001b[0m\u001b[0;34m:\u001b[0m\u001b[0;34m\u001b[0m\u001b[0;34m\u001b[0m\u001b[0m\n",
      "\u001b[0;31mFileNotFoundError\u001b[0m: [Errno 2] No such file or directory: 'model.joblib'"
     ]
    }
   ],
   "source": [
    "mlp = load(\"model.joblib\")"
   ]
  },
  {
   "cell_type": "code",
   "execution_count": null,
   "metadata": {},
   "outputs": [],
   "source": []
  }
 ],
 "metadata": {
  "kernelspec": {
   "display_name": "Python 3",
   "language": "python",
   "name": "python3"
  },
  "language_info": {
   "codemirror_mode": {
    "name": "ipython",
    "version": 3
   },
   "file_extension": ".py",
   "mimetype": "text/x-python",
   "name": "python",
   "nbconvert_exporter": "python",
   "pygments_lexer": "ipython3",
   "version": "3.8.7"
  }
 },
 "nbformat": 4,
 "nbformat_minor": 4
}
